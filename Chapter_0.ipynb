{
 "cells": [
  {
   "cell_type": "markdown",
   "metadata": {},
   "source": [
    "# 우아한 사이파이"
   ]
  },
  {
   "cell_type": "markdown",
   "metadata": {},
   "source": [
    "## 0 들어가며"
   ]
  },
  {
   "cell_type": "markdown",
   "metadata": {},
   "source": [
    "- 틀에 박힌 웨딩드레스와 달리, 이것은 기술 용어로 우아한 것이다. 단 몇 줄의 코드로 인상적인 결과를 얻는 컴퍼튜 알고리즘처럼 ... - 그레임 심시언, [로지 효과]"
   ]
  },
  {
   "cell_type": "markdown",
   "metadata": {},
   "source": [
    "### 0.1 왜 '사이파이' 인가? "
   ]
  },
  {
   "cell_type": "markdown",
   "metadata": {},
   "source": [
    "-  numpy, scipy 라이브러리는 파이썬 과학 생태계에서 많이 사용된다."
   ]
  },
  {
   "cell_type": "markdown",
   "metadata": {},
   "source": [
    "### 0.2 사이파이 생태계"
   ]
  },
  {
   "cell_type": "markdown",
   "metadata": {},
   "source": [
    "- scipy : 신호의 처리, 통합 및 최적화 그리고 통계와 같은 분야에 사용되는 효율적인 수치 알고리즘의 모음이다. 사용자 친화적인 인터페이스를 제공\n",
    "- numpy : 파이썬에서 기초 과학을 다루는 넘파이는 효율적인 수치 배열과 선형대수, 난수 및 푸리에 변환을 포함한 광범위한 수치 계산을 제공. 넘파이의 가장 강력한 기능은 N차원 배열(ndarray). n차원배열 자료 구조는 숫자를 효율적으로 저장하고, 다차원 그리드(grid)를 정의.\n",
    "- Matplotlib : 2차원 및 기본적인 3차원 그래프를 그리는 강력한 패키지.\n",
    "- IPython : 데이터와 테스트 로직을 적용하여 그 결과를 쉽고 빠르게 얻을 수 있는 파이썬의 대화식 인터프리터 인터페이스\n",
    "- Jupyter notebook : 브라우저에서 코드, 텍스트, 수식 및 대화식 위젯을 결합한 풍부한 문서를 만들수 있음. Jupyter는 IPython 확장으로 시작했으나, Cython, Julia, R, Octave, Bash, Perl, Ruby 등 여러 언어를 지원\n",
    "- Pandas : 사용하기 쉬운 패키지 형태로 컬럼 형태의 자료 구조를 빠르게 제공. 특히 테이블 혹은 관계형 데이터베이스와 같이 레이블이 있는 데이터셋을 처리하고, 시계열(time series) 데이터와 슬라이딩 윈도우(sliding window)를 관리하는데 적합. 또한 데이터 파씽, 정리, 수집, 그래프를 그리는데 편리한 데이터 도구를 제공\n",
    "- scikit-learn : 머신러닝 알고리즘에 통합 인터페이스를 제공\n",
    "- scikit-image : 사이파이 생태계와 완벽하게 통합하는 이미지 분석 도구를 제공"
   ]
  },
  {
   "cell_type": "markdown",
   "metadata": {},
   "source": [
    "### 0.3 대혼란: 파이썬 2 vs 파이썬 3 "
   ]
  },
  {
   "cell_type": "markdown",
   "metadata": {},
   "source": [
    "- 최신 버전을 사용하자."
   ]
  },
  {
   "cell_type": "markdown",
   "metadata": {},
   "source": [
    "### 0.4 사이파이 생태계와 커뮤니티 "
   ]
  },
  {
   "cell_type": "markdown",
   "metadata": {},
   "source": [
    "- 자유 오픈 소스 소프트웨어\n",
    "- 오픈 소스, 오픈 과학\n",
    "- 오픈 소스 라이선스\n",
    "    - Permissive\n",
    "    - Copy-left\n",
    "- 깃허브 : 소셜 코딩\n",
    "- 사이파이 생태계에 기여하기\n",
    "- 유머러스한 파이썬 세계"
   ]
  },
  {
   "cell_type": "markdown",
   "metadata": {},
   "source": [
    "### 0.5 도움받기 "
   ]
  },
  {
   "cell_type": "markdown",
   "metadata": {},
   "source": [
    "- 구글 검색 창 {library name} mailing list"
   ]
  },
  {
   "cell_type": "markdown",
   "metadata": {},
   "source": [
    "### 0.6 파이썬 설치하기 "
   ]
  },
  {
   "cell_type": "markdown",
   "metadata": {},
   "source": [
    "- https://github.com/AstinCHOI//elegant-scipy"
   ]
  },
  {
   "cell_type": "markdown",
   "metadata": {},
   "source": [
    "### 0.7 사이파이의 세계로 "
   ]
  }
 ],
 "metadata": {
  "kernelspec": {
   "display_name": "Python 3",
   "language": "python",
   "name": "python3"
  },
  "language_info": {
   "codemirror_mode": {
    "name": "ipython",
    "version": 3
   },
   "file_extension": ".py",
   "mimetype": "text/x-python",
   "name": "python",
   "nbconvert_exporter": "python",
   "pygments_lexer": "ipython3",
   "version": "3.6.6"
  }
 },
 "nbformat": 4,
 "nbformat_minor": 2
}
